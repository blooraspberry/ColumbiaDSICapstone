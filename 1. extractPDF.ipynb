{
 "cells": [
  {
   "cell_type": "code",
   "execution_count": 1,
   "metadata": {},
   "outputs": [],
   "source": [
    "from PyPDF2 import PdfFileReader, utils\n",
    "from tika import parser\n",
    "import os\n",
    "from os import listdir\n",
    "import pandas as pd"
   ]
  },
  {
   "cell_type": "code",
   "execution_count": 9,
   "metadata": {},
   "outputs": [],
   "source": [
    "# cwd=os.getcwd()\n",
    "\n",
    "# or input path below:\n",
    "cwd = '/Users/sharontsao/Desktop/Datasets/'"
   ]
  },
  {
   "cell_type": "code",
   "execution_count": 10,
   "metadata": {},
   "outputs": [],
   "source": [
    "earningcalls_path = cwd+'Earning Calls/'"
   ]
  },
  {
   "cell_type": "code",
   "execution_count": 11,
   "metadata": {},
   "outputs": [
    {
     "data": {
      "text/plain": [
       "'/Users/sharontsao/Desktop/Datasets/Earning Calls/'"
      ]
     },
     "execution_count": 11,
     "metadata": {},
     "output_type": "execute_result"
    }
   ],
   "source": [
    "earningcalls_path"
   ]
  },
  {
   "cell_type": "code",
   "execution_count": 15,
   "metadata": {},
   "outputs": [],
   "source": [
    "#industry folders if exist\n",
    "industryFolder = [f for f in listdir(earningcalls_path) if '.' not in f]"
   ]
  },
  {
   "cell_type": "code",
   "execution_count": 80,
   "metadata": {},
   "outputs": [],
   "source": [
    "industryFolder.remove('Biotechnology')"
   ]
  },
  {
   "cell_type": "code",
   "execution_count": 18,
   "metadata": {},
   "outputs": [],
   "source": [
    "companyFolder = [f for f in listdir(earningcalls_path + industryFolder[0]) if '.zip' not in f]"
   ]
  },
  {
   "cell_type": "code",
   "execution_count": 20,
   "metadata": {},
   "outputs": [
    {
     "data": {
      "text/plain": [
       "['CTSH_20181114',\n",
       " 'AAPL_20181114',\n",
       " 'IBM_20181114',\n",
       " 'STX_20181114',\n",
       " 'HPE_20181114',\n",
       " 'FTNT_20181114',\n",
       " 'HPQ_20181114',\n",
       " 'DXC_20181114',\n",
       " 'NTAP_20181114',\n",
       " 'WDC_20181114',\n",
       " 'ACN_20181114']"
      ]
     },
     "execution_count": 20,
     "metadata": {},
     "output_type": "execute_result"
    }
   ],
   "source": [
    "companyFolder"
   ]
  },
  {
   "cell_type": "code",
   "execution_count": 53,
   "metadata": {},
   "outputs": [],
   "source": [
    "files = [f for f in listdir(earningcalls_path + z ) if '.' not in f]"
   ]
  },
  {
   "cell_type": "code",
   "execution_count": 54,
   "metadata": {},
   "outputs": [
    {
     "data": {
      "text/plain": [
       "['VRTX_20181114',\n",
       " 'GILD_20181114',\n",
       " 'ALXN_20181114',\n",
       " 'REGN_20181114',\n",
       " 'AMGN_20181114',\n",
       " 'CELG_20181114',\n",
       " 'INCY_20181114',\n",
       " 'ILMN_20181114',\n",
       " 'BIIB_20181114']"
      ]
     },
     "execution_count": 54,
     "metadata": {},
     "output_type": "execute_result"
    }
   ],
   "source": [
    "files"
   ]
  },
  {
   "cell_type": "code",
   "execution_count": 176,
   "metadata": {},
   "outputs": [
    {
     "data": {
      "text/plain": [
       "11"
      ]
     },
     "execution_count": 176,
     "metadata": {},
     "output_type": "execute_result"
    }
   ],
   "source": [
    "i"
   ]
  },
  {
   "cell_type": "code",
   "execution_count": 181,
   "metadata": {},
   "outputs": [
    {
     "data": {
      "text/plain": [
       "['Chemicals',\n",
       " 'CommercialServices',\n",
       " 'Internet',\n",
       " 'Apparel',\n",
       " 'Semiconductors',\n",
       " 'AerospaceDefense',\n",
       " 'Media']"
      ]
     },
     "execution_count": 181,
     "metadata": {},
     "output_type": "execute_result"
    }
   ],
   "source": [
    "industryFolder"
   ]
  },
  {
   "cell_type": "code",
   "execution_count": 180,
   "metadata": {},
   "outputs": [
    {
     "data": {
      "text/plain": [
       "7"
      ]
     },
     "execution_count": 180,
     "metadata": {},
     "output_type": "execute_result"
    }
   ],
   "source": [
    "z"
   ]
  },
  {
   "cell_type": "code",
   "execution_count": 178,
   "metadata": {
    "scrolled": false
   },
   "outputs": [
    {
     "ename": "IndexError",
     "evalue": "list index out of range",
     "output_type": "error",
     "traceback": [
      "\u001b[0;31m---------------------------------------------------------------------------\u001b[0m",
      "\u001b[0;31mIndexError\u001b[0m                                Traceback (most recent call last)",
      "\u001b[0;32m<ipython-input-178-b43f20f2eded>\u001b[0m in \u001b[0;36m<module>\u001b[0;34m()\u001b[0m\n\u001b[1;32m      1\u001b[0m \u001b[0;32mfor\u001b[0m \u001b[0mz\u001b[0m \u001b[0;32min\u001b[0m \u001b[0;34m(\u001b[0m\u001b[0;36m7\u001b[0m\u001b[0;34m,\u001b[0m \u001b[0;36m8\u001b[0m\u001b[0;34m)\u001b[0m\u001b[0;34m:\u001b[0m \u001b[0;31m#len(industryFolder)\u001b[0m\u001b[0;34m\u001b[0m\u001b[0m\n\u001b[1;32m      2\u001b[0m     \u001b[0;31m#print(z)\u001b[0m\u001b[0;34m\u001b[0m\u001b[0;34m\u001b[0m\u001b[0m\n\u001b[0;32m----> 3\u001b[0;31m     \u001b[0mcompanyFolder\u001b[0m \u001b[0;34m=\u001b[0m \u001b[0;34m[\u001b[0m\u001b[0mf\u001b[0m \u001b[0;32mfor\u001b[0m \u001b[0mf\u001b[0m \u001b[0;32min\u001b[0m \u001b[0mlistdir\u001b[0m\u001b[0;34m(\u001b[0m\u001b[0mearningcalls_path\u001b[0m \u001b[0;34m+\u001b[0m \u001b[0mindustryFolder\u001b[0m\u001b[0;34m[\u001b[0m\u001b[0mz\u001b[0m\u001b[0;34m]\u001b[0m \u001b[0;34m)\u001b[0m \u001b[0;32mif\u001b[0m \u001b[0;34m'.'\u001b[0m \u001b[0;32mnot\u001b[0m \u001b[0;32min\u001b[0m \u001b[0mf\u001b[0m\u001b[0;34m]\u001b[0m\u001b[0;34m\u001b[0m\u001b[0m\n\u001b[0m\u001b[1;32m      4\u001b[0m     \u001b[0mprint\u001b[0m\u001b[0;34m(\u001b[0m\u001b[0mcompanyFolder\u001b[0m\u001b[0;34m)\u001b[0m\u001b[0;34m\u001b[0m\u001b[0m\n\u001b[1;32m      5\u001b[0m     \u001b[0;32mfor\u001b[0m \u001b[0mi\u001b[0m \u001b[0;32min\u001b[0m \u001b[0mrange\u001b[0m\u001b[0;34m(\u001b[0m\u001b[0;36m0\u001b[0m\u001b[0;34m,\u001b[0m \u001b[0mlen\u001b[0m\u001b[0;34m(\u001b[0m\u001b[0mcompanyFolder\u001b[0m\u001b[0;34m)\u001b[0m \u001b[0;34m)\u001b[0m\u001b[0;34m:\u001b[0m\u001b[0;34m\u001b[0m\u001b[0m\n",
      "\u001b[0;31mIndexError\u001b[0m: list index out of range"
     ]
    }
   ],
   "source": [
    "for z in (7, 8): #len(industryFolder)\n",
    "    #print(z)\n",
    "    companyFolder = [f for f in listdir(earningcalls_path + industryFolder[z] ) if '.' not in f]\n",
    "    print(companyFolder)\n",
    "    for i in range(0, len(companyFolder) ):\n",
    "\n",
    "        files = [f for f in listdir(earningcalls_path + industryFolder[z] + '/' + companyFolder[i]+'/') if '.pdf' in f]\n",
    "\n",
    "        savePath = earningcalls_path + 'CSVs/' + industryFolder[z] + '/' + companyFolder[i] #+ '/'\n",
    "        os.mkdir(savePath)\n",
    "\n",
    "        for j in range(0, len(files)): #len(files)\n",
    "            path = earningcalls_path + industryFolder[z] + '/'+companyFolder[i]+'/'+files[j]\n",
    "            parsedPDF = parser.from_file(path)\n",
    "            data = parsedPDF['content']\n",
    "            \n",
    "            if '<' and '>' in data:\n",
    "\n",
    "                cols = ['Speaker', 'Content', 'Section', 'Type' ]\n",
    "                df = pd.DataFrame(columns=cols)\n",
    "\n",
    "                if '\\n\\nMANAGEMENT DISCUSSION SECTION\\n\\n' in data:\n",
    "                    split = '\\n\\nMANAGEMENT DISCUSSION SECTION\\n\\n'\n",
    "                elif '\\nPresentation\\n' in data:\n",
    "                    split = '\\nPresentation\\n'\n",
    "                elif '\\n1MANAGEMENT DISCUSSION SECTION\\n' in data:\n",
    "                    split = '\\n1MANAGEMENT DISCUSSION SECTION\\n'\n",
    "                elif '• MANAGEMENT DISCUSSION SECTION' in data:\n",
    "                    split = '• MANAGEMENT DISCUSSION SECTION'\n",
    "                    \n",
    "                elif '\\nMANAGEMENT DISCUSSION SECTIONV\\n' in data:\n",
    "                    split = '\\nMANAGEMENT DISCUSSION SECTIONV'\n",
    "\n",
    "                df = df.append({'Speaker': 'N/A', 'Content': data.split(split)[0], 'Section': 'Commentary', 'Type': 'N\\A'}, ignore_index=True)\n",
    "                data = data.split(split)[1]\n",
    "\n",
    "                if '\\n\\nQ&A\\n\\n' in data:\n",
    "                    split = '\\n\\nQ&A\\n\\n'\n",
    "                elif '\\nQ&A\\n' in data:\n",
    "                    split = '\\nQ&A\\n'\n",
    "                elif ' QUESTION AND ANSWER SECTION\\n' in data:\n",
    "                    split = 'QUESTION AND ANSWER SECTION\\n'\n",
    "                elif 'QUESTION & ANSWER SECTION\\n' in data:\n",
    "                    split = 'QUESTION & ANSWER SECTION\\n'\n",
    "                elif '\\nQuestions And Answers\\n' in data:\n",
    "                    split = '\\nQuestions And Answers\\n'\n",
    "                elif '\\nQ&A\\n' in data:\n",
    "                    split = '\\nQ&A\\n'\n",
    "                elif '\\n\\nQUESTION-AND-ANSWER SECTION\\n\\n' in data:\n",
    "                    split = '\\n\\nQUESTION-AND-ANSWER SECTION\\n\\n'\n",
    "                elif '• QUESTION AND ANSWER SECTION\\n' in data:\n",
    "                    split = '• QUESTION AND ANSWER SECTION\\n'\n",
    "                \n",
    "                elif '\\n\\nQUESTION AND ANSWER\\n\\n' in data:\n",
    "                    split = '\\n\\nQUESTION AND ANSWER\\n\\n'\n",
    "                    \n",
    "                elif '<Q -' in data:\n",
    "                    split = '<Q -'\n",
    "\n",
    "\n",
    "                df = df.append({'Speaker': 'N/A', 'Content': data.split(split)[0], 'Section': 'Management Discussion', 'Type': 'N\\A'}, ignore_index=True)\n",
    "                data = data.split(split)[1]\n",
    "\n",
    "                data = data.replace('\\n', '')\n",
    "\n",
    "                dialogue = data.split('<')\n",
    "\n",
    "                for k in range(0, len(dialogue)):\n",
    "                    if len(dialogue[k])<1:\n",
    "                        continue\n",
    "\n",
    "                    elif dialogue[k][0] == 'Q' or dialogue[k][0] == 'A':\n",
    "                        temp = dialogue[k]\n",
    "                        dtype = temp[0]\n",
    "                        speaker = temp.split('>')[0][4:]\n",
    "                        if ':' in temp:\n",
    "                            split = ':'\n",
    "                        else:\n",
    "                            split = '>'\n",
    "\n",
    "                        try:\n",
    "\n",
    "                            content = temp.split(split)[1]\n",
    "                            df = df.append({'Speaker': speaker, 'Content': content, 'Section': 'Q&A', 'Type': dtype}, ignore_index=True)\n",
    "                        except: \n",
    "                            pass\n",
    "             \n",
    "            else:\n",
    "                pass\n",
    "            df.to_csv(savePath + '/' + files[j][0:26]+'.csv')\n",
    "\n"
   ]
  },
  {
   "cell_type": "code",
   "execution_count": 175,
   "metadata": {
    "scrolled": false
   },
   "outputs": [
    {
     "data": {
      "text/plain": [
       "['DIS_20181114',\n",
       " 'DISH_20181114',\n",
       " 'FOX_20181114',\n",
       " 'DISCA_20181114',\n",
       " 'CBS_20181114',\n",
       " 'NWS_20181114',\n",
       " 'DISCK_20181114',\n",
       " 'FOXA_20181114',\n",
       " 'VIAB_20181114',\n",
       " 'CHTR_20181114',\n",
       " 'NWSA_20181114',\n",
       " 'CMCSA_20181114']"
      ]
     },
     "execution_count": 175,
     "metadata": {},
     "output_type": "execute_result"
    }
   ],
   "source": [
    "companyFolder"
   ]
  },
  {
   "cell_type": "code",
   "execution_count": 168,
   "metadata": {
    "scrolled": true
   },
   "outputs": [
    {
     "data": {
      "text/plain": [
       "'<Q - Ingrid Chung>: Sure, thanks. Good morning. So my first question is about how operating conditions trendedmonthly. So I was wondering if you could talk about how operating conditions in September 2008 compared toSeptember 2007. And then how did October 2008 look vs. September 2008? And then my second question is about thegeographic distribution of Basic losses. I was wondering if they were isolated to certain areas?<A - Stephen Burke>: Let me start by saying broadly the economy and the slowdown in the economy affects certain parts of our business and doesn’t affect other parts. For example, when housing starts come down that obviously means there are less opportunities to gain new subscribers, but when existing home sales go down that’s actually good for our business in certain areas because there’s less activity, less connects and less disconnects. What we have seen, and this has been going on for a while and accelerating recently, is that our connects are lower than they were last year.Company Name: ComcastCompany Ticker: CMCSA USDate: 2008-10-29Event Description: Q3 2008 Earnings CallMarket Cap: 105,104.68Current PX: 40.165YTD Change($): +2.805YTD Change(%): +7.508Bloomberg Estimates - EPS   Current Quarter: 0.631   Current Year: 2.416Bloomberg Estimates - Sales   Current Quarter: 15998.885   Current Year: 64114.893Page 11 of 17Interestingly, our disconnects are not rising. So it’s not that people who have our service are leaving, it’s that there’sless propensity to upgrade, less propensity to move and take our services when someone moves into town.A lot of our other metrics are very a stable, bad debt is very stable; pay-per-view is growing 9% or so a year; ad sales isa very negative picture, ad sales is going backwards. But a lot of the trends that we’re talking about we’ve been seeingfor the last year. All the housing-related things have been in the business the last year and obviously over the last fewweeks the economy has gotten worse. We’re watching some of these metrics very, very carefully like bad debt. Andwe’re surprised all three of our product lines have lower churn for Q3 and the month of October we think than last year.So it’s an interesting thing that the base core subscription side of the business is very resilient, we think and very strongbut on the margin people’s propensity to do something new and step out and increase their spending with us appears tobe affected more than our existing customers potentially leaving.<A - Brian Roberts>: I think other point, however, is the on the geographic diversity we do see that AT&T andVerizon are both now in a competitive position in many of the markets. So there is you know there – it’s not just onevs. the other. I think we have more competition, as more homes have become available with an overbuild from awireline overbuilder and I do think that we – you know we are reading a paper like everybody else. We see thatOctober of course is just, you know, an unprecedented month in so many ways, that as we said a lot of our planning isto assume that Q4 and that the period that we are in is worse than the period that we were you know just three fourmonth ago but as Steve said, this business has certain characteristics that can retard that, but it’s not a greatenvironment and it’s not getting better that’s for sure.<A - Stephen Burke>: That’s true.<Q - Ingrid Chung>: Okay, thank you.<A - Marlene Dooner>: Ingrid, thanks. Operator next question please.<Q - Craig Moffett>: Hi, good morning. Brian, you talked about preparing for slower growth, so let me just drill downon that a little bit if I could, and then one additional question on technology. But first on the sort of overview 30,000foot question, when you say you’re preparing for slower growth, what are the things that you anticipate customersdoing? Is it reducing the richness of their packages? Is it a slowdown in the uptake of HDTV? Is it that they’re going todowngrade their HD or their HSD tiers? What are the sort of things, that you specifically expect and that you’repreparing for?And then, if I could follow up with a specific technology question, just to make sure I understand. Steve, you talked alot about your D-to-A converter strategy. As I understand, those don’t have conditional access; if they did they’d needto have cable cards. So am I to understand that you’re going to be sending digital signals to television setsunscrambled? And if so, is that compliant with all your programming agreements with your content partners?<A - Brian Roberts>: Let me start and Steve can answer a little bit of both those. Let me just put in context just what Imeant by slower growth. If you go back to 2007, we’ve seen and we’ve stated in our 2008 guidance that we thought wewould sell less RGUs and we would have slower revenue growth than we did in 2007 in 2008. And so what I think youdo when you see that period of time coming as some of the products mature, you begin to reduce your expenses, youreduce your capital -- all the things that I think make this a very healthy quarter from a financial standpoint and I thinkbode well as we look to the rest of the year in terms of how we will perform on FCF in particular.Customers, and Steve can be even more granular, are looking for packages, customers are I think showing that they stillwant our cable and our broadband product. I think clearly in wireline phone some people are not getting wireline phonewho are just getting wireless phone. So you’re seeing some of that perhaps affect the growth rate. But when you’recoming from a 10% penetration that went up a few points this year, you have so much upside vs. downside that it nipsyou a few hundred thousand units perhaps over time in a year, whatever than you would have liked to have had at thebeginning of the year, but big picture we are still the fastest growing part of the company and we think -- and the samegoes in broadband.Company Name: ComcastCompany Ticker: CMCSA USDate: 2008-10-29Event Description: Q3 2008 Earnings CallMarket Cap: 105,104.68Current PX: 40.165YTD Change($): +2.805YTD Change(%): +7.508Bloomberg Estimates - EPS   Current Quarter: 0.631   Current Year: 2.416Bloomberg Estimates - Sales   Current Quarter: 15998.885   Current Year: 64114.893Page 12 of 17I’m sure there were some people who would have liked to have switched already or some other reason. But as long aswe have the right package and the right pricing and the best products we are in a terrific business that in times -- whentimes are tough people want to watch television and now even as much they want to be on the Internet and beconnected. And our phone product represents the best value of all of our three products because it’s clearly cheaperthan any alternative and as part of a package it’s even a better deal. So I think the other macroeconomic conditions aresomething that we all are just anticipating and doing what you have to do to run your business appropriately. Steve?<A - Stephen Burke>: Just to put a point on it, I think what we’re talking about is marginally less net adds. So insteadof 550,000 phone adds it’s 450,000; instead of 400,000 high-def sets during a quarter it’s 300,000. It’s those types ofthings, it’s not existing customers leaving or no growth, it’s just slower growth in terms of the elections that consumersmake. In terms of the D-to-A and the conversion, the way this will work is you will need to have a D-to-A to receivethe expanded basic digital signals. So it will be secured initially by the fact that you need to have a D-to-A, right nowyou don’t. Obviously you can just get an analog signal. So in many senses it will be more secure than the analogdistribution. We will not be using encryption initially and that is fine in terms of our programming contracts.<Q - Craig Moffett>: Okay, thank you.<A - Marlene Dooner>: Thanks, Craig. Operator, the next question, please.<Q - Jessica Reif-Cohen>: Three questions. First is given the volatility in the market I was just wondering if youwould consider increasing the dividend, helping investors wait for a more normalized market?The second question is on wireless, given what’s happened to Clearwire’s shares – and everybody’s shares, but givenwhat’s happened, is there any way that you can revise the terms either in terms of money, control or structure?And then finally, I was hoping that you could give us some color on your initial experience with DOCSIS 3.0? Thanks.<A - Michael Angelakis>: This is Michael, Jessica. Good morning. Why don’t I take the first one? With regards todividends, we’re not making any change to dividends. We think it’s appropriate. We’ve only had two dividendpayments and I think you’re indirectly getting at the buyback in terms of how we’ve mentioned we’re just reevaluatingit. There’s a lot going on in the marketplace, I think everyone is very aware of that, and we’re just taking a step back onthe buyback and just reevaluating all aspects of the credit markets, of the capital markets and those kinds of items. So Idon’t think, were we going to make any -- we don’t anticipate any changes to the dividend.When we talk about Clearwire, we’re very focused on closing the deal. And we look at Clearwire as sort of newClearwire, where there are a lot of assets from Sprint and XOHM and spectrum that’s getting contributed to a newcompany called New Clearwire and we’re very focused on getting that transaction closed. We are very focused on our3G agreement, which we negotiated with Sprint as well as our 4G agreement which we negotiated with Clearwire orNew Clearwire which we think are both strategically important to us. And we’re also focused on sort of post closingwhat that looks like.So I think DOCSIS 3.0, Steve, why don’t you take that one?<A - Stephen Burke>: DOCSIS, it’s too early. We have customers now, but measured in the hundreds. The good newsis technically it works beautifully and we’re rolling it out to a very substantial part of our base as we speak. But interms of customer reaction, it’s just too early.<Q - Jessica Reif-Cohen>: Thank you.<A - Marlene Dooner>: Thanks, Jessica. And operator next question please.<Q - John Hodulik>: Okay, thanks. Two quick questions. It seems like you guys are well on your way to being underthe 18% CapEx number. I think you’d have to spend well into the 20% of revenues in Q4. I mean is there any --assuming that you are below the 18% this year, is the expectation that -- that I think you guys have been talking aboutthat, if you look into 2009 vs. 2008 or just in the future that the CapEx as a percentage of sales would continue to comedown even from what may be a lower level this year?Company Name: ComcastCompany Ticker: CMCSA USDate: 2008-10-29Event Description: Q3 2008 Earnings CallMarket Cap: 105,104.68Current PX: 40.165YTD Change($): +2.805YTD Change(%): +7.508Bloomberg Estimates - EPS   Current Quarter: 0.631   Current Year: 2.416Bloomberg Estimates - Sales   Current Quarter: 15998.885   Current Year: 64114.893Page 13 of 17And then second, just getting back to some comments Steve made, it sounds like you may be seeing a little bit morecompetition from AT&T as they roll out U-verse. In the past it’s sort of been said that I think FiOS had been strong butyou really haven’t seen much AT&T. Do you see a bit of a change there as they roll out or are they being moreaggressive in general or is it just a function of maybe more marketing on their front?<A - Stephen Burke>: Why don’t I do the AT&T Verizon one first. We’re actually seeing more competition fromAT&T than Verizon right now and that was the exact opposite a year ago. We monitor it very, very carefully. AT&Thas so much broader a footprint that we actually think they’re having a greater effect on our business than Verizon. Inboth AT&T and Verizon’s case we obviously believe that we’re taking more phone and data customers from them thanthey are taking video from us. But clearly we’ve seen a shift of late where AT&T is proving to be a more formidablecompetitor than they were.<Q - John Hodulik>: Is that just a function of the rollout or they’ve gotten more aggressive from a pricing promotionstandpoint?<A - Stephen Burke>: I think it’s more footprint related. I think they’ve been very aggressive for a long time in certainmarkets. I think it’s more just footprint.<A - Brian Roberts>: But just to comment, I mean relatively speaking it’s fairly expected what we think is happening.I don’t think there’s too much surprise. It’s clearly working and they’ve improved their high-def offering and otherthings. But I want to echo the point that what we’ve set up -- we’ve assumed that we were going to lose subscribers andthat we were going to be able to get many more phone customers and high speed data.And I think one of the points that hasn’t been brought up yet on this call is high-speed data came in, as Steve said in hisopening remarks, around 80% of a year ago’s level and a lot of that is coming from DSL. And we do think that theDOCSIS 3.0 question that was just asked, even though we don’t have data yet, we’re going to be able to go on aproactive marketing campaign that we offer up to 50 megabits of speed in many of our markets as soon as by the end ofthis year. And that’s a pretty -- I think, reaffirming message to consumers that if you want high speed data the best wayto get that is through Comcast.<A - Stephen Burke>: Yeah. In Q3, we gained more high-speed Internet customers than AT&T and Verizoncombined.<A - Michael Angelakis>: That’s a great note. I’ll take the CapEx question. Obviously, we’ve been trending lower thisyear. Our guidance is approximately 18% which we’re very comfortable with. In Q4 we do expect to spend morecapital than Q3 related to the D-to-As, as well as DOCSIS 3.0. But again, for year end we feel very good. And thesecond part of your question, John, related to next year. Budgets aren’t done, but we’re very hopeful that as apercentage of revenue, we’ll continue to see it trend downward, even in 2009.<Q - John Hodulik>: Great, thanks, guys.<A - Marlene Dooner>: Thanks John. Operator, the next question please?<Q - Benjamin Swinburne>: Thanks. Good morning. Two questions. I wanted to go back to the converter all digitalrollout. And Steve, now that you’re getting very close to accelerating this, is there any head count impact and anycomment you can make on sort of the percentage of converter deployments that require truck rolls just so we can sortof try to fine-tune the CapEx numbers around this project? And also, are you still thinking you’ll complete this sort of Imean the end of 2009 into 2010, does that timing still make sense?And then I wanted to ask on VOD, I think you said pay-per-view is up around 9%. I believe that’s a slowdown fromwhere it was running last year. And maybe Brian, I don’t know if you could comment on this, but as you look out into2009 and 2010, if the windows improve for the VOD movie releases, do you think that business can reaccelerate? Imean, that seems a business that would hold up fairly well in a downturn, home video watching?<A - Stephen Burke>: Okay. On the digital conversion, it’s definitely going to spill into ‘10. We will not finish in 2009. In terms of the percentage of digital boxes that are going to go in with self install, that’s really the $64,000Company Name: ComcastCompany Ticker: CMCSA USDate: 2008-10-29Event Description: Q3 2008 Earnings CallMarket Cap: 105,104.68Current PX: 40.165YTD Change($): +2.805YTD Change(%): +7.508Bloomberg Estimates - EPS   Current Quarter: 0.631   Current Year: 2.416Bloomberg Estimates - Sales   Current Quarter: 15998.885   Current Year: 64114.893Page 14 of 17question. It’s very, it’s going to be a very material percentage, but whether it’s 50% or 70% we are going to need to sortof monitor the initial rollouts. Portland is getting ready to go as we speak with the new D-to-A boxes which are now instock and in test homes and we’ll see what that percentage is. It clearly increases head count and marginally reducesoperating cash flow when you take a market to D-to-A. There is a certain amount of phone calls, there is a certainamount of truck rolls, there is a certain amount of marketing and activity level and that’s all baked into our plans, but itdoes have an effect on the profitability of that system when it’s going through that conversion.<A - Brian Roberts>: The VOD question, we’re hoping that -- anyway, I think I saw some news in the last day thatone of the studios is talking about taking some releases and going day and date across the nation. So you’re beginningto see more people experimenting because of what’s happening with the DVD market and the economy in general andjust whether VOD can reaccelerate. We had a lot of boxing matches and other things that weren’t the same as a yearago. There is clearly more ways to get that content whether it’s over the net or some of the other places. So I don’tknow what reaccelerates it.I am -- we’re just as equally focused, not so much on that line item growth rate, as sort of the experience of whaton-demand brings to our customers and by having 10,000 choices on-demand and Project Infinity trying to increasethat. So this year we got to 1,000 over 1,000 HD choices. And now to be able to go to multiples of 10,000 over the nextyear or two or so and to be able to interlay the Internet content some day into the on-demand experience, I think you’regoing to see customers value that more and more vis-à-vis their pricing with satellite and other competitive offerings.And one way or the other I think we’re going to be able to recoup value to our shareholders by having on-demand.So whether it’s pay-per-view or it’s part of your subscription or we create a special package some day where you canaccess a bucket of content, we’re looking at a bunch of models and talking to the content companies about that and Ithink we’re making progress. Technically, we’re very much on track to be able to continue to increase beyond wherewe are today.<Q - Benjamin Swinburne>: Thank you.<A - Marlene Dooner>: Thanks Ben. Operator, can we have the next question please?<Q - Douglas Mitchelson>: Thanks. Two questions, both for Steve. I was hoping for more detail on small, mediumsize business along the lines of what percentage of your ultimate target market, are you attacking right now in terms ofwhat products you’re offering vs. where you might go over the next few years? In other words, are you still on trackwith what was laid out early last year for the long-term outlook for that business?And the second question was what is the character of the basic subs that you’re losing? It seems to me that many of thevideo subs you’re losing are single play lower value subscribers and maybe basic subs isn’t the right way to look at thebusiness anymore? Thanks.<A - Stephen Burke>: Okay. On the basic sub side, you’re absolutely right. The propensity or the vulnerability ofsingle product video customers is significantly higher than double or triple play product customers. Right now about, Ithink 22% of our customers are triple play; 57% are double play. So the 43% that are just video are more vulnerable.And the good news is if they’re disproportionately lost it hurts us less financially, but we don’t like to lose anysubscribers that we don’t have to.In terms of small and medium size business, I’m getting very optimistic about this business. The revenues grew 42%y-over-y. We see that ramp continuing. We have phone and data, eight-line phone and our high-speed data product witha very interesting suite of additional services which we’re enhancing all the time and that product is scaling very well.It’s interesting, we’re doing our budget sessions now finalizing the 2009 budget and every single part of the companyspends a significant amount of time talking about Business Services. And when you look at the financials you see thatas a percentage of their operating cash flow growth and FCF growth in 2009 it’s become a significant chunk. Sogeneral managers who last year might have said, well, and we’re hiring some people for Business Services, now spend20 minutes talking about how important it is and how it’s all working and so I feel very confident in all the projectionsthat we’re going to get 20 or 25% of the small and medium sized business market eventually.Company Name: ComcastCompany Ticker: CMCSA USDate: 2008-10-29Event Description: Q3 2008 Earnings CallMarket Cap: 105,104.68Current PX: 40.165YTD Change($): +2.805YTD Change(%): +7.508Bloomberg Estimates - EPS   Current Quarter: 0.631   Current Year: 2.416Bloomberg Estimates - Sales   Current Quarter: 15998.885   Current Year: 64114.893Page 15 of 17We’re increasing our passings and don’t do a lot of ‘if you build it they will come’ capital investment. Typically wewould be more conservative than that, but just organically as the business expands you increase your fiber footprint,increase your passings. We’re starting to get some cell backhaul business and overall I feel very positive about the jobBill Stemper and the Business Services team are doing.<Q - Douglas Mitchelson>: As a follow-up on the basic, are you willing to tell us sort of what the churn differential isbetween a triple play sub and say just a basic only sub?<A - Stephen Burke>: I don’t think we have ever done that.<Q - Douglas Mitchelson>: All right, thank you.<A - Marlene Dooner>: Thanks Doug. Operator, next question please.<Q - Thomas Eagan>: Great. Thank you very much. I guess first question for Steve, if you could give us a little more– little deeper thoughts on the wireless substitution. For example, is what you’re seeing – is that a function of theeconomy, meaning that folks are being more economy minded and therefore substituting fixed line phone for wireless,or is it just a trend amongst consumers?And then secondly on that, how is what you saw in Q3 different from what you saw in Q2? And then I have afollow-up, thanks.<A - Stephen Burke>: Well, there is no question that wireless substitution is substantial and is increasing, and it wouldstand to reason that it would increase as people look at all of their bills and try to respond to the changing economy.One of the interesting things about our business, and maybe it’s because the majority of our phone customers are inpackages, is that we are seeing churn, phone churn decline fairly markedly y-over-y. So while there is clearly somewireless substitution, my bet is that what’s happening is the majority of the wireless substitution in percentage terms iscoming from RBOC customers that are not bundled in. And I think if you look at their numbers, there is some evidencethat that’s increasing.<Q - Thomas Eagan>: Right, okay. And then secondly on the February of 2009 migration, how do you think theeconomy and the pressures may impact what consumers might do, and how do you think that differs from what youwere expecting about six months ago? Thanks.<A - Stephen Burke>: Well, we are already starting to see some people call us and say, I want to get ahead of themigration. And we ran a flight of advertising during the month of October to try to get the word out. Our theory now isthat with everything else going on, people are going to be distracted. And the people that may have acted earlier thanwaiting until the last minute in February, a greater percentage will wait until the last minute.Our deal is if you get any of our other services, internet or phone, we will give you basic video service for free. And ifyou want just basic video service, we’ll give it to you for $10 for a period of time. So we think we have a prettyattractive deal for someone who needs to do something during the transition, and we think a lot of people are going tobe outside of the digital footprint and they’re going to have to do something if they want to keep watching thosechannels. And that will result in us picking up basic subscribers plus some high-speed data and phone subscribers. But Ithink to the degree that the economy changes things, our bet is that it just makes people distracted and they make theirdecisions later than they would have.<Q - Thomas Eagan>: Right, okay. Thank you.<A - Marlene Dooner>: Thanks Tom. Operator, next question please.<Q - Bryan Goldberg>: Thanks. I was wondering what percent of your digital net adds this quarter came fromenhanced basic? And also do you have an estimate of cable TV piracy in your footprint? And based upon yourexperiences in Chicago, is it reasonable to expect this rate to improve? And if so, can you help us think about how toquantify that?Company Name: ComcastCompany Ticker: CMCSA USDate: 2008-10-29Event Description: Q3 2008 Earnings CallMarket Cap: 105,104.68Current PX: 40.165YTD Change($): +2.805YTD Change(%): +7.508Bloomberg Estimates - EPS   Current Quarter: 0.631   Current Year: 2.416Bloomberg Estimates - Sales   Current Quarter: 15998.885   Current Year: 64114.893Page 16 of 17<A - Brian Roberts>: There is no question that when you go all-digital you reduce theft. And we’ve had some marketswhere the percentage increase in expanded basic customers has been 5 or 6%. Again, it’s very, very early, very smallsample size, but it stands to reason. We’ve always known there’s a significant amount of theft. It’s not all that difficultto steal an analog signal, much harder to steal a digital signal and go out and get a box and all those things. So I thinkwe’re anticipating some kind of a build up due to theft reduction. And we are looking, as we speak, for the percentagethat’s enhanced digital vs. paying digital. We’ll get that for you in a minute. Why don’t we take the next question andwe can factor that in later?<A - Marlene Dooner>: Yeah.<Q - Vijay Jayant>: Thanks. Brian, given the current valuations across the board and in the past you’ve shown someinterest in content assets, and arguably some of those prized assets are very attractively valued. Do you think – is thisthe time to play offense and take advantage of your strong balance sheet and do something or do you want to be morecautious for the foreseeable future?<A - Brian Roberts>: Well, I think that we’re staying very focused on the business that we’ve got. We’ve got, I think,a very good plan and I’m pleased with all the things we’ve been talking about this morning. So we want to stayfocused, that’s job one. We have said previously and Mike has said and you can weigh in here if you want that we dowant to look at opportunities to grow the company in a disciplined way and in a focused way. Our content business didquite well this quarter and through the first nine months is the fastest growing part of the company. But there’s nothingthat we’re working on, and in this environment I don’t think there’s that much to really talk about actually. And we’repretty focused on the business we’ve got. Mike?<A - Michael Angelakis>: I think you said it well. I mean, we’ve been very clear that we have sort of sevenmeaningful revenue streams. We want to look at everything within those seven areas. We’re very focused anddisciplined. And we have I think pretty meaningful financial and strategic filters related to acquisitions. I’d argue thatthose -- the criteria for those filters have increased a bit given the environment and I think Brian summed it up prettywell.<A - Stephen Burke>: We gained 417,000 digital homes, starter was 210,000. It’s kind of confusing because peoplemove into different tiers with advanced, but 210 out of 417 is the answer to your question, Bryan.<A - Marlene Dooner>: Thank you. Thanks, Vijay. Next question please. Operator, we’ll make this the last question.Thanks.<Q - Spencer Wang>: Thanks. Good morning. I just wanted to go back to CapEx for a quick second. It looks like --Mike, you mentioned that CPE CapEx, it looks like it was down double-digits in Q3, down 7% I think YTD, yet RGUnet adds are actually growing both in the quarter and also YTD. And so I guess that means unit costs are coming downeven more. And I know Steve has talked about better unit -- better procurement, but is there anything else going onthere in terms of how you’re redeploying older equipment or the CPE you have in inventory? Thank you.<A - Michael Angelakis>: No, I don’t think there’s any magic to that. I think that we’ve done an excellent job onprocurement. I think the team has done really a very strong -- have very strong relationships with our suppliers and wework with them. I think that with regard to CPE also you’re looking at product mix. So we are down, as you said, 7%. Idon’t really look at the quarter per se because there’s a lot of volatility going around quarter-to-quarter, but we’re down7% YTD and I think that’s a combination of both units as well as better procurement.<Q - Spencer Wang>: Okay. Thank you.This transcript may not be 100 percent accurate and may contain misspellings and other inaccuracies. This transcriptis provided \"as is\", without express or implied warranties of any kind. Bloomberg retains all rights to this transcriptand provides it solely for your personal, non-commercial use. Bloomberg, its suppliers and third-party agents shallhave no liability for errors in this transcript or for lost profits, losses, or direct, indirect, incidental, consequential,special or punitive damages in connection with the furnishing, performance or use of such transcript. Neither theCompany Name: ComcastCompany Ticker: CMCSA USDate: 2008-10-29Event Description: Q3 2008 Earnings CallMarket Cap: 105,104.68Current PX: 40.165YTD Change($): +2.805YTD Change(%): +7.508Bloomberg Estimates - EPS   Current Quarter: 0.631   Current Year: 2.416Bloomberg Estimates - Sales   Current Quarter: 15998.885   Current Year: 64114.893Page 17 of 17information nor any opinion expressed in this transcript constitutes a solicitation of the purchase or sale of securitiesor commodities. Any opinion expressed in the transcript does not necessarily reflect the views of Bloomberg LP.  © COPYRIGHT 2013, BLOOMBERG LP. All rights reserved. Any reproduction, redistribution or retransmission isexpressly prohibited.'"
      ]
     },
     "execution_count": 168,
     "metadata": {},
     "output_type": "execute_result"
    }
   ],
   "source": [
    "data"
   ]
  },
  {
   "cell_type": "code",
   "execution_count": 169,
   "metadata": {},
   "outputs": [
    {
     "data": {
      "text/plain": [
       "'20081029_CMCSA_EarningsCall_FS000000002090286555.pdf'"
      ]
     },
     "execution_count": 169,
     "metadata": {},
     "output_type": "execute_result"
    }
   ],
   "source": [
    "files[j]"
   ]
  },
  {
   "cell_type": "code",
   "execution_count": 170,
   "metadata": {
    "scrolled": false
   },
   "outputs": [
    {
     "data": {
      "text/plain": [
       "':'"
      ]
     },
     "execution_count": 170,
     "metadata": {},
     "output_type": "execute_result"
    }
   ],
   "source": [
    "split"
   ]
  },
  {
   "cell_type": "markdown",
   "metadata": {},
   "source": [
    "#files with formatting issues:\n",
    "- 20131017_ALB_EarningsCall_ALB_US_2013-10-17T14_47_05_EARNING.pdf\n",
    "- 20171024_TSS_EarningsCall_FS000000002377616959.pdf\n",
    "- 20070124_NFLX_EarningsCall_FS000000002295569086.pdf\n",
    "- 20111027_AMD_EarningsCall_AMD_US_2011-10-27T22_19_05_EARNING.pdf\n",
    "- 20180430_ARNC_EarningsCall_FS000000002423081777.pdf"
   ]
  },
  {
   "cell_type": "code",
   "execution_count": 96,
   "metadata": {},
   "outputs": [
    {
     "data": {
      "text/plain": [
       "'20171026_LIN_EarningsCall_FS000000002378296361.pdf'"
      ]
     },
     "execution_count": 96,
     "metadata": {},
     "output_type": "execute_result"
    }
   ],
   "source": [
    "files[j]"
   ]
  },
  {
   "cell_type": "code",
   "execution_count": 122,
   "metadata": {},
   "outputs": [
    {
     "data": {
      "text/html": [
       "<div>\n",
       "<style scoped>\n",
       "    .dataframe tbody tr th:only-of-type {\n",
       "        vertical-align: middle;\n",
       "    }\n",
       "\n",
       "    .dataframe tbody tr th {\n",
       "        vertical-align: top;\n",
       "    }\n",
       "\n",
       "    .dataframe thead th {\n",
       "        text-align: right;\n",
       "    }\n",
       "</style>\n",
       "<table border=\"1\" class=\"dataframe\">\n",
       "  <thead>\n",
       "    <tr style=\"text-align: right;\">\n",
       "      <th></th>\n",
       "      <th>Speaker</th>\n",
       "      <th>Content</th>\n",
       "      <th>Section</th>\n",
       "      <th>Type</th>\n",
       "    </tr>\n",
       "  </thead>\n",
       "  <tbody>\n",
       "    <tr>\n",
       "      <th>0</th>\n",
       "      <td>N/A</td>\n",
       "      <td>\\n\\n\\n\\n\\n\\n\\n\\n\\n\\n\\n\\n\\n\\n\\n\\n\\n\\n\\n\\n\\n\\n\\n...</td>\n",
       "      <td>Commentary</td>\n",
       "      <td>N\\A</td>\n",
       "    </tr>\n",
       "    <tr>\n",
       "      <th>1</th>\n",
       "      <td>N/A</td>\n",
       "      <td>Amazon\\n\\nCompany Ticker</td>\n",
       "      <td>Management Discussion</td>\n",
       "      <td>N\\A</td>\n",
       "    </tr>\n",
       "  </tbody>\n",
       "</table>\n",
       "</div>"
      ],
      "text/plain": [
       "  Speaker                                            Content  \\\n",
       "0     N/A  \\n\\n\\n\\n\\n\\n\\n\\n\\n\\n\\n\\n\\n\\n\\n\\n\\n\\n\\n\\n\\n\\n\\n...   \n",
       "1     N/A                           Amazon\\n\\nCompany Ticker   \n",
       "\n",
       "                 Section Type  \n",
       "0             Commentary  N\\A  \n",
       "1  Management Discussion  N\\A  "
      ]
     },
     "execution_count": 122,
     "metadata": {},
     "output_type": "execute_result"
    }
   ],
   "source": [
    "df"
   ]
  },
  {
   "cell_type": "code",
   "execution_count": null,
   "metadata": {},
   "outputs": [],
   "source": []
  }
 ],
 "metadata": {
  "kernelspec": {
   "display_name": "Python 3",
   "language": "python",
   "name": "python3"
  },
  "language_info": {
   "codemirror_mode": {
    "name": "ipython",
    "version": 3
   },
   "file_extension": ".py",
   "mimetype": "text/x-python",
   "name": "python",
   "nbconvert_exporter": "python",
   "pygments_lexer": "ipython3",
   "version": "3.6.5"
  }
 },
 "nbformat": 4,
 "nbformat_minor": 2
}
