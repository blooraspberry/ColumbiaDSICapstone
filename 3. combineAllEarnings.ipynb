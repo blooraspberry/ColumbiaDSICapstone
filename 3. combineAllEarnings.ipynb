{
 "cells": [
  {
   "cell_type": "code",
   "execution_count": 3,
   "metadata": {},
   "outputs": [],
   "source": [
    "import pandas as pd\n",
    "import os\n",
    "from os import listdir"
   ]
  },
  {
   "cell_type": "code",
   "execution_count": 4,
   "metadata": {},
   "outputs": [],
   "source": [
    "path = '/Users/sharontsao/Desktop/Datasets/EarningCalls_Sentiment/'"
   ]
  },
  {
   "cell_type": "code",
   "execution_count": 5,
   "metadata": {},
   "outputs": [],
   "source": [
    "industryFiles = [f for f in listdir(path) if '.' not in f]"
   ]
  },
  {
   "cell_type": "code",
   "execution_count": 82,
   "metadata": {},
   "outputs": [],
   "source": [
    "# Computer average for each earnings call\n",
    "col = ['Company', 'Date', 'Avg Sentiment']\n",
    "df  = pd.DataFrame(columns = col)\n",
    "allFolders = [f for f in listdir(path) if '2018' in f]\n",
    "for i in range(0, len(allFolders)):\n",
    "    currentPath = path + allFolders[i] + '/'\n",
    "    files = [f for f in listdir(currentPath) if '.csv' in f]\n",
    "    for j in range(0, len(files)):\n",
    "        \n",
    "        filepath = currentPath + files[j]\n",
    "        temp = pd.read_csv(filepath)\n",
    "        temp = temp[temp['Section'] == 'Q&A']\n",
    "        date = files[i][0:8]\n",
    "        df = df.append({'Company': allFolders[i].split('_')[0], 'Date': date, 'Avg Sentiment': temp['SentimentScore'].mean()}, ignore_index=True)\n",
    "        "
   ]
  },
  {
   "cell_type": "code",
   "execution_count": null,
   "metadata": {},
   "outputs": [],
   "source": []
  },
  {
   "cell_type": "code",
   "execution_count": 16,
   "metadata": {
    "scrolled": true
   },
   "outputs": [],
   "source": [
    "# append all earnings call together\n",
    "\n",
    "for k in range(0, len(industryFiles)):\n",
    "    allFolders = [f for f in listdir(path + industryFiles[k]) if '2018' in f]\n",
    "    col = ['Company', 'Date', 'SentimentScore', 'Section', 'Type', 'Content', 'Industry' ]\n",
    "    df  = pd.DataFrame(columns = col)\n",
    "    \n",
    "    for i in range(0, len(allFolders)):\n",
    "        currentPath = path + industryFiles[k] + '/'+ allFolders[i] + '/'\n",
    "\n",
    "        files = [f for f in listdir(currentPath) if '.csv' in f]\n",
    "        for j in range(0, len(files)):\n",
    "\n",
    "            filepath = currentPath + files[j]\n",
    "            temp = pd.read_csv(filepath)\n",
    "\n",
    "            \n",
    "            date = files[j][0:8]\n",
    "            company = allFolders[i].split('_')[0]\n",
    "            temp['Company'] = company\n",
    "            temp['Date'] = date\n",
    "            df = df.append(temp)\n",
    "                #{'Company': allFolders[i].split('_')[0], 'Date': date, 'SentimentScore': temp['SentimentScore'], 'Section': temp['Section'], 'Type': temp['Type'], 'Content': temp['Content']}, ignore_index=True\n",
    "                \n",
    "                \n",
    "    df.to_csv('/Users/sharontsao/Desktop/Datasets/EarningsCallAll/earningsCall_' + industryFiles[k] + '.csv')"
   ]
  },
  {
   "cell_type": "code",
   "execution_count": 116,
   "metadata": {},
   "outputs": [],
   "source": [
    "df = df.reset_index()"
   ]
  },
  {
   "cell_type": "code",
   "execution_count": 117,
   "metadata": {
    "scrolled": false
   },
   "outputs": [],
   "source": [
    "# save a copy of all earningsCall\n",
    "df.to_csv('/Users/sharontsao/Desktop/moelis/earningsCall_all.csv')"
   ]
  }
 ],
 "metadata": {
  "kernelspec": {
   "display_name": "Python 3",
   "language": "python",
   "name": "python3"
  },
  "language_info": {
   "codemirror_mode": {
    "name": "ipython",
    "version": 3
   },
   "file_extension": ".py",
   "mimetype": "text/x-python",
   "name": "python",
   "nbconvert_exporter": "python",
   "pygments_lexer": "ipython3",
   "version": "3.6.5"
  }
 },
 "nbformat": 4,
 "nbformat_minor": 2
}
