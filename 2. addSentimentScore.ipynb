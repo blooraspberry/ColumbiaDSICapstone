{
 "cells": [
  {
   "cell_type": "code",
   "execution_count": 21,
   "metadata": {},
   "outputs": [],
   "source": [
    "import nltk\n",
    "from nltk.sentiment.vader import SentimentIntensityAnalyzer\n",
    "import pandas as pd\n",
    "import os\n",
    "from os import listdir"
   ]
  },
  {
   "cell_type": "code",
   "execution_count": 2,
   "metadata": {},
   "outputs": [],
   "source": [
    "cwd=os.getcwd()"
   ]
  },
  {
   "cell_type": "code",
   "execution_count": 3,
   "metadata": {},
   "outputs": [
    {
     "data": {
      "text/plain": [
       "'/Users/sharontsao/Desktop/Capstone-Moelis/Earnings Call '"
      ]
     },
     "execution_count": 3,
     "metadata": {},
     "output_type": "execute_result"
    }
   ],
   "source": [
    "cwd"
   ]
  },
  {
   "cell_type": "code",
   "execution_count": 41,
   "metadata": {},
   "outputs": [],
   "source": [
    "earningcalls_path = '/Users/sharontsao/Desktop/Datasets/EarningCalls_CSVs/'"
   ]
  },
  {
   "cell_type": "code",
   "execution_count": 42,
   "metadata": {},
   "outputs": [],
   "source": [
    "allIndustry = [f for f in listdir(earningcalls_path) if '.' not in f]"
   ]
  },
  {
   "cell_type": "code",
   "execution_count": 12,
   "metadata": {},
   "outputs": [],
   "source": [
    "allFolders = [f for f in listdir(earningcalls_path) if '2018' in f ]"
   ]
  },
  {
   "cell_type": "code",
   "execution_count": 35,
   "metadata": {},
   "outputs": [
    {
     "data": {
      "text/plain": [
       "'/Users/sharontsao/Desktop/Datasets/Earning Calls/CSVs/CMCSA_20181114/'"
      ]
     },
     "execution_count": 35,
     "metadata": {},
     "output_type": "execute_result"
    }
   ],
   "source": [
    "earningcalls_path+allFolders[i]+'/'#+files[j]"
   ]
  },
  {
   "cell_type": "code",
   "execution_count": 36,
   "metadata": {},
   "outputs": [
    {
     "data": {
      "text/plain": [
       "[]"
      ]
     },
     "execution_count": 36,
     "metadata": {},
     "output_type": "execute_result"
    }
   ],
   "source": [
    "files"
   ]
  },
  {
   "cell_type": "code",
   "execution_count": 43,
   "metadata": {
    "scrolled": true
   },
   "outputs": [
    {
     "name": "stdout",
     "output_type": "stream",
     "text": [
      "Computers\n",
      "20180731_AAPL_EarningsCall.csv:\n",
      "2\n",
      "\n",
      "\n",
      "20130911_HPQ_EarningsCall_.csv:\n",
      "2\n",
      "\n",
      "\n",
      "20130906_IBM_EarningsCall_.csv:\n",
      "2\n",
      "\n",
      "\n",
      "Biotechnology\n",
      "20180131_VRTX_EarningsCall.csv:\n",
      "2\n",
      "\n",
      "\n",
      "20130129_VRTX_EarningsCall.csv:\n",
      "2\n",
      "\n",
      "\n",
      "20180131_VRTX_EarningsCall.csv:\n",
      "2\n",
      "\n",
      "\n",
      "20180501_WU_EarningsCall_D.csv:\n",
      "2\n",
      "\n",
      "\n",
      "20130129_VRTX_EarningsCall.csv:\n",
      "2\n",
      "\n",
      "\n",
      "20110428_CELG_EarningsCall.csv:\n",
      "3\n",
      "\n",
      "\n",
      "20180215_INCY_EarningsCall.csv:\n",
      "2\n",
      "\n",
      "\n",
      "20120221_ILMN_EarningsCall.csv:\n",
      "2\n",
      "\n",
      "\n",
      "Software\n",
      "Chemicals\n",
      "CommercialServices\n",
      "Internet\n",
      "Apparel\n",
      "Semiconductors\n",
      "20180517_INTC_ShareholderM.csv:\n",
      "9\n",
      "\n",
      "\n",
      "20130523_ADI_ConfPresentat.csv:\n",
      "8\n",
      "\n",
      "\n",
      "20130930_TXN_ConfPresentat.csv:\n",
      "4\n",
      "\n",
      "\n",
      "20140313_TXN_ShareholderMt.csv:\n",
      "4\n",
      "\n",
      "\n",
      "20130227_TXN_ConfPresentat.csv:\n",
      "9\n",
      "\n",
      "\n",
      "AerospaceDefense\n",
      "20170127_GD_EarningsCall_F.csv:\n",
      "3\n",
      "\n",
      "\n",
      "20180725_GD_EarningsCall2_.csv:\n",
      "3\n",
      "\n",
      "\n",
      "20170726_GD_EarningsCall_F.csv:\n",
      "3\n",
      "\n",
      "\n",
      "20180124_GD_EarningsCall_F.csv:\n",
      "3\n",
      "\n",
      "\n",
      "20180425_GD_EarningsCall_F.csv:\n",
      "3\n",
      "\n",
      "\n",
      "20150128_GD_EarningsCall_F.csv:\n",
      "3\n",
      "\n",
      "\n",
      "20171025_GD_EarningsCall_F.csv:\n",
      "3\n",
      "\n",
      "\n",
      "20071024_NOC_EarningsCall_.csv:\n",
      "3\n",
      "\n",
      "\n",
      "20120425_NOC_EarningsCall_.csv:\n",
      "2\n",
      "\n",
      "\n",
      "20120322_MU_EarningsCall1_.csv:\n",
      "3\n",
      "\n",
      "\n",
      "20161221_MU_EarningsCall_F.csv:\n",
      "3\n",
      "\n",
      "\n",
      "20170926_MU_EarningsCall_F.csv:\n",
      "4\n",
      "\n",
      "\n",
      "Media\n",
      "20180508_DIS_EarningsCall_.csv:\n",
      "3\n",
      "\n",
      "\n",
      "20180206_DIS_EarningsCall_.csv:\n",
      "3\n",
      "\n",
      "\n",
      "20181108_DIS_EarningsCall_.csv:\n",
      "3\n",
      "\n",
      "\n",
      "20170207_DIS_EarningsCall_.csv:\n",
      "3\n",
      "\n",
      "\n",
      "20141106_DIS_EarningsCall_.csv:\n",
      "4\n",
      "\n",
      "\n",
      "20171109_DIS_EarningsCall_.csv:\n",
      "3\n",
      "\n",
      "\n",
      "20181107_DISH_EarningsCall.csv:\n",
      "3\n",
      "\n",
      "\n",
      "20170510_FOXA_EarningsCall.csv:\n",
      "4\n",
      "\n",
      "\n",
      "20151104_FOXA_EarningsCall.csv:\n",
      "3\n",
      "\n",
      "\n",
      "20170206_FOXA_EarningsCall.csv:\n",
      "4\n",
      "\n",
      "\n",
      "20180509_FOXA_EarningsCall.csv:\n",
      "3\n",
      "\n",
      "\n",
      "20181108_DISCA_EarningsCal.csv:\n",
      "4\n",
      "\n",
      "\n",
      "20171102_DISCA_EarningsCal.csv:\n",
      "7\n",
      "\n",
      "\n",
      "20170504_CBS_EarningsCall_.csv:\n",
      "3\n",
      "\n",
      "\n",
      "20170807_CBS_EarningsCall_.csv:\n",
      "3\n",
      "\n",
      "\n",
      "20170215_CBS_EarningsCall_.csv:\n",
      "3\n",
      "\n",
      "\n",
      "20181101_CBS_EarningsCall_.csv:\n",
      "4\n",
      "\n",
      "\n",
      "20180215_CBS_EarningsCall_.csv:\n",
      "3\n",
      "\n",
      "\n",
      "20180503_CBS_EarningsCall_.csv:\n",
      "3\n",
      "\n",
      "\n",
      "20170810_NWSA_EarningsCall.csv:\n",
      "3\n",
      "\n",
      "\n",
      "20181108_DISCA_EarningsCal.csv:\n",
      "4\n",
      "\n",
      "\n",
      "20171102_DISCA_EarningsCal.csv:\n",
      "7\n",
      "\n",
      "\n",
      "20170510_FOXA_EarningsCall.csv:\n",
      "4\n",
      "\n",
      "\n",
      "20151104_FOXA_EarningsCall.csv:\n",
      "3\n",
      "\n",
      "\n",
      "20170206_FOXA_EarningsCall.csv:\n",
      "4\n",
      "\n",
      "\n",
      "20180509_FOXA_EarningsCall.csv:\n",
      "3\n",
      "\n",
      "\n",
      "20141113_VIAB_EarningsCall.csv:\n",
      "3\n",
      "\n",
      "\n",
      "20171116_VIAB_EarningsCall.csv:\n",
      "5\n",
      "\n",
      "\n",
      "20180208_VIAB_EarningsCall.csv:\n",
      "3\n",
      "\n",
      "\n",
      "20170803_VIAB_EarningsCall.csv:\n",
      "4\n",
      "\n",
      "\n",
      "20170727_CHTR_EarningsCall.csv:\n",
      "3\n",
      "\n",
      "\n",
      "20180427_CHTR_EarningsCall.csv:\n",
      "3\n",
      "\n",
      "\n",
      "20170810_NWSA_EarningsCall.csv:\n",
      "3\n",
      "\n",
      "\n",
      "20180726_CMCSA_EarningsCal.csv:\n",
      "6\n",
      "\n",
      "\n",
      "20171026_CMCSA_EarningsCal.csv:\n",
      "4\n",
      "\n",
      "\n",
      "20170126_CMCSA_EarningsCal.csv:\n",
      "4\n",
      "\n",
      "\n",
      "20170427_CMCSA_EarningsCal.csv:\n",
      "5\n",
      "\n",
      "\n",
      "20181025_CMCSA_EarningsCal.csv:\n",
      "4\n",
      "\n",
      "\n"
     ]
    }
   ],
   "source": [
    "#Check for length of files\n",
    "\n",
    "\n",
    "for k in range(0, len(allIndustry)): \n",
    "    allFolders = [f for f in listdir(earningcalls_path+allIndustry[k]+'/') if '.' not in f]\n",
    "    print(allIndustry[k])\n",
    "    for i in range(0, len(allFolders)): \n",
    "        files = [f for f in listdir(earningcalls_path +allIndustry[k] + '/' +allFolders[i]+'/') if '.csv' in f]\n",
    "        \n",
    "        for j in range(0, len(files)):  \n",
    "            temp = pd.read_csv(earningcalls_path +allIndustry[k]+'/' +allFolders[i]+'/'+files[j])\n",
    "            length = len(temp)\n",
    "            #print(length)\n",
    "            \n",
    "            if length < 10:\n",
    "                print(files[j] + ':')\n",
    "                print(length)\n",
    "                print('\\n')\n"
   ]
  },
  {
   "cell_type": "markdown",
   "metadata": {},
   "source": [
    "Dictionary"
   ]
  },
  {
   "cell_type": "code",
   "execution_count": 46,
   "metadata": {},
   "outputs": [],
   "source": [
    "# edit dictionary\n",
    "\n",
    "new_words = {\n",
    "    'gross': 0,\n",
    "    'expansion': .5,\n",
    "    'contraction': -0.5\n",
    "}\n"
   ]
  },
  {
   "cell_type": "code",
   "execution_count": 47,
   "metadata": {},
   "outputs": [],
   "source": [
    "# Analyzer.lexicon.pop('contraction')"
   ]
  },
  {
   "cell_type": "code",
   "execution_count": 55,
   "metadata": {},
   "outputs": [
    {
     "data": {
      "text/plain": [
       "{'compound': -0.128, 'neg': 0.097, 'neu': 0.903, 'pos': 0.0}"
      ]
     },
     "execution_count": 55,
     "metadata": {},
     "output_type": "execute_result"
    }
   ],
   "source": [
    "# Test\n",
    "Analyzer = SentimentIntensityAnalyzer()\n",
    "Analyzer.lexicon.update(new_words)\n",
    "Analyzer.polarity_scores(' ...but even at that level, it does imply some margin contraction for the fourth quarter?')"
   ]
  },
  {
   "cell_type": "markdown",
   "metadata": {},
   "source": [
    "Add Sentiment Scores"
   ]
  },
  {
   "cell_type": "code",
   "execution_count": 87,
   "metadata": {},
   "outputs": [
    {
     "data": {
      "text/plain": [
       "2"
      ]
     },
     "execution_count": 87,
     "metadata": {},
     "output_type": "execute_result"
    }
   ],
   "source": [
    "i"
   ]
  },
  {
   "cell_type": "code",
   "execution_count": 89,
   "metadata": {
    "scrolled": false
   },
   "outputs": [
    {
     "name": "stdout",
     "output_type": "stream",
     "text": [
      "Biotechnology\n"
     ]
    },
    {
     "name": "stderr",
     "output_type": "stream",
     "text": [
      "/usr/local/lib/python3.6/site-packages/pandas/core/indexing.py:194: SettingWithCopyWarning: \n",
      "A value is trying to be set on a copy of a slice from a DataFrame\n",
      "\n",
      "See the caveats in the documentation: http://pandas.pydata.org/pandas-docs/stable/indexing.html#indexing-view-versus-copy\n",
      "  self._setitem_with_indexer(indexer, value)\n"
     ]
    },
    {
     "name": "stdout",
     "output_type": "stream",
     "text": [
      "Software\n",
      "Chemicals\n",
      "CommercialServices\n",
      "Internet\n",
      "Apparel\n",
      "Semiconductors\n",
      "AerospaceDefense\n",
      "Media\n"
     ]
    }
   ],
   "source": [
    "for z in range(1, len(allIndustry)): \n",
    "    allFolders = [f for f in listdir(earningcalls_path+allIndustry[z]+'/') if '.' not in f]\n",
    "    print(allIndustry[z])\n",
    "    \n",
    "    for i in range(0, len(allFolders)): \n",
    "        files = [f for f in listdir(earningcalls_path +allIndustry[z] + '/' +allFolders[i]+'/') if '.csv' in f]\n",
    "        savePath = '/Users/sharontsao/Desktop/Datasets/EarningCalls_Sentiment/'+ allIndustry[z] + '/'  + allFolders[i] + '/'\n",
    "        os.mkdir(savePath)\n",
    "        for j in range(0, len(files)):  \n",
    "\n",
    "            #print(files[j])\n",
    "            temp = pd.read_csv(earningcalls_path + allIndustry[z]+'/'+allFolders[i]+'/'+files[j])\n",
    "            temp = temp[temp.Content.notnull()]\n",
    "            sid = SentimentIntensityAnalyzer()\n",
    "\n",
    "            #add industry\n",
    "            temp['Industry'] = allIndustry[z]\n",
    "            temp['SentimentScore'] = 0\n",
    "            #print(len(text))\n",
    "\n",
    "            for k in range(0, len(temp)):\n",
    "                ss = sid.polarity_scores(temp['Content'].iloc[k])\n",
    "\n",
    "                temp['SentimentScore'].iloc[k] = ss['compound']\n",
    "\n",
    "                temp.to_csv(savePath+files[j])"
   ]
  },
  {
   "cell_type": "code",
   "execution_count": 58,
   "metadata": {},
   "outputs": [
    {
     "name": "stdout",
     "output_type": "stream",
     "text": [
      "/Users/sharontsao/Desktop/Datasets/EarningCalls_CSVs/CTSH_20181114/CTSH_2018111420081105_CTSH_EarningsCall.csv\n"
     ]
    }
   ],
   "source": [
    "print(earningcalls_path+allFolders[i]+'/'+files[j])"
   ]
  },
  {
   "cell_type": "code",
   "execution_count": null,
   "metadata": {},
   "outputs": [],
   "source": []
  },
  {
   "cell_type": "code",
   "execution_count": null,
   "metadata": {},
   "outputs": [],
   "source": []
  },
  {
   "cell_type": "code",
   "execution_count": 5,
   "metadata": {},
   "outputs": [],
   "source": [
    "temp = pd.read_csv('/Users/sharontsao/Desktop/moelis/Earning Calls/CSVs/CRM_20181010/20060517_CRM_EarningsCall_.csv')"
   ]
  },
  {
   "cell_type": "code",
   "execution_count": 9,
   "metadata": {},
   "outputs": [],
   "source": [
    "df = temp[temp['Section'] == 'Q&A']"
   ]
  },
  {
   "cell_type": "code",
   "execution_count": 17,
   "metadata": {},
   "outputs": [
    {
     "data": {
      "text/html": [
       "<div>\n",
       "<style scoped>\n",
       "    .dataframe tbody tr th:only-of-type {\n",
       "        vertical-align: middle;\n",
       "    }\n",
       "\n",
       "    .dataframe tbody tr th {\n",
       "        vertical-align: top;\n",
       "    }\n",
       "\n",
       "    .dataframe thead th {\n",
       "        text-align: right;\n",
       "    }\n",
       "</style>\n",
       "<table border=\"1\" class=\"dataframe\">\n",
       "  <thead>\n",
       "    <tr style=\"text-align: right;\">\n",
       "      <th></th>\n",
       "      <th>Unnamed: 0</th>\n",
       "      <th>Speaker</th>\n",
       "      <th>Content</th>\n",
       "      <th>Section</th>\n",
       "      <th>Type</th>\n",
       "    </tr>\n",
       "  </thead>\n",
       "  <tbody>\n",
       "    <tr>\n",
       "      <th>2</th>\n",
       "      <td>2</td>\n",
       "      <td>Gregory Dunham</td>\n",
       "      <td>Yes, actually this is Greg Dunham on behalf o...</td>\n",
       "      <td>Q&amp;A</td>\n",
       "      <td>Q</td>\n",
       "    </tr>\n",
       "    <tr>\n",
       "      <th>3</th>\n",
       "      <td>3</td>\n",
       "      <td>Steve Cakebread</td>\n",
       "      <td>Well, we had 65% growth year over year, which...</td>\n",
       "      <td>Q&amp;A</td>\n",
       "      <td>A</td>\n",
       "    </tr>\n",
       "    <tr>\n",
       "      <th>4</th>\n",
       "      <td>4</td>\n",
       "      <td>Marc Benioff</td>\n",
       "      <td>Well, this is obviously one of our absolute b...</td>\n",
       "      <td>Q&amp;A</td>\n",
       "      <td>A</td>\n",
       "    </tr>\n",
       "    <tr>\n",
       "      <th>5</th>\n",
       "      <td>5</td>\n",
       "      <td>Laura Lederman</td>\n",
       "      <td>Yes, just a few quick questions. What can you...</td>\n",
       "      <td>Q&amp;A</td>\n",
       "      <td>Q</td>\n",
       "    </tr>\n",
       "    <tr>\n",
       "      <th>6</th>\n",
       "      <td>6</td>\n",
       "      <td>Steve Cakebread</td>\n",
       "      <td>Sure. Laura, let me start with the leverage. ...</td>\n",
       "      <td>Q&amp;A</td>\n",
       "      <td>A</td>\n",
       "    </tr>\n",
       "  </tbody>\n",
       "</table>\n",
       "</div>"
      ],
      "text/plain": [
       "   Unnamed: 0          Speaker  \\\n",
       "2           2   Gregory Dunham   \n",
       "3           3  Steve Cakebread   \n",
       "4           4     Marc Benioff   \n",
       "5           5   Laura Lederman   \n",
       "6           6  Steve Cakebread   \n",
       "\n",
       "                                             Content Section Type  \n",
       "2   Yes, actually this is Greg Dunham on behalf o...     Q&A    Q  \n",
       "3   Well, we had 65% growth year over year, which...     Q&A    A  \n",
       "4   Well, this is obviously one of our absolute b...     Q&A    A  \n",
       "5   Yes, just a few quick questions. What can you...     Q&A    Q  \n",
       "6   Sure. Laura, let me start with the leverage. ...     Q&A    A  "
      ]
     },
     "execution_count": 17,
     "metadata": {},
     "output_type": "execute_result"
    }
   ],
   "source": [
    "df.head()"
   ]
  },
  {
   "cell_type": "code",
   "execution_count": 29,
   "metadata": {},
   "outputs": [
    {
     "data": {
      "text/plain": [
       "Content     Well, we had 65% growth year over year, which...\n",
       "Name: 3, dtype: object"
      ]
     },
     "execution_count": 29,
     "metadata": {},
     "output_type": "execute_result"
    }
   ],
   "source": [
    "df[['Content']].iloc[1]"
   ]
  },
  {
   "cell_type": "code",
   "execution_count": 46,
   "metadata": {},
   "outputs": [],
   "source": [
    "text = df['Content'].values.tolist()"
   ]
  },
  {
   "cell_type": "code",
   "execution_count": 51,
   "metadata": {
    "scrolled": false
   },
   "outputs": [
    {
     "name": "stdout",
     "output_type": "stream",
     "text": [
      " Yes, actually this is Greg Dunham on behalf of Tom. First question, I guess, I mean, thepricing looks great and the enterprise deals look really good. But, you know, there is still some investor concernsregarding net sub adds and the year-over-year growth there. Could you just address those and how should we thinkabout that going forward in terms of, is it the pricing growth engine, or is this net new subscriber growth engine?\n",
      "\n",
      "\n",
      "{'neg': 0.0, 'neu': 0.785, 'pos': 0.215, 'compound': 0.9501}\n",
      " Well, we had 65% growth year over year, which has been fairly fantastic. And keep in mind,this is Q1 coming off a very strong Q4. It is a combination of some ASP, $2 a unit on new subs is somewhat minimal,but we also saw very strong sub growth. And we are very excited about the performance of Unlimited Edition thatcame out just recently in this quarter, so we didn't get a full quarter of that. The AppExchange platform is catching on.So we are very bullish about the go forward here. We have a lot of pilots. Marc described a lot of major accounts thatare in pilot mode for our product. And we had new or existing customers like Cisco continue to up and add subscribers.So I think this is just a normal course of business. We think that growth rates are going to continue. We have great newproducts coming out the rest of the year. Marc, you got anything you want to add?\n",
      "\n",
      "\n",
      "{'neg': 0.0, 'neu': 0.822, 'pos': 0.178, 'compound': 0.9822}\n",
      " Well, this is obviously one of our absolute best quarters ever. And of course we had an outstanding fourth quarter where we added 48,000 subs. Now in this quarter we just added 45,000 subs. If you look at a year ago in the first quarter, we added 40,000 subs. But as we disclosed last year we had a substantial overhang from the fourth quarter. And I believe that overhang was almost 20,000 subs coming into the first quarter from the fourth quarter of the previous year. This year our overhang from the fourth quarter was much smaller, based on changes thatCompany Name\n",
      "\n",
      "\n",
      "{'neg': 0.0, 'neu': 0.887, 'pos': 0.113, 'compound': 0.9022}\n",
      " Yes, just a few quick questions. What can you talk about leveraging on the P&L long term,in other words, sales and marketing is still such a high percentage of revenue, how you see that leveraging over time.And what changes you would potentially make in the distribution model to improve the sales and marketing revenue?And separately, I hate to bring attention to someone else's research, but there was someone commenting about theproblems at ADP. Can you just talk a little bit about what's happening at ADP? And separately, sorry to throw so manyout at you, but just update us on the outages and the plans that you have to keep things up going forward, and whateveryou are willing to share on that subject. Thanks a lot. Sorry to ask so many questions.\n",
      "\n",
      "\n",
      "{'neg': 0.039, 'neu': 0.881, 'pos': 0.08, 'compound': 0.7622}\n",
      " Sure. Laura, let me start with the leverage. You know, you have to keep in mind we are stillgaining presence in markets in countries here. You saw our sales and marketing costs as a percent of revenues continueto drop year over year. And I just think people have to understand, a good example, we have no offices between Tokyoand Sydney, but we have customers in all the countries out there. So you are going to see us continue to build that out.This is nowhere close to touching all our customers and addressing all the markets that we are in. So we are going tocontinue to do that. We have said we are going to invest in our growth, and I think we have done that. We've had strongsubscriber growth year over year. We are hiring more and more salespeople throughout the world that we can find. Soyou will get the leverages. We have often talked about, you know, we believe our margins will be higher as time goeson. You also have to consider when you look at the numbers between last year and this year, this 123R cost is fairlysignificant. So I would just caution everybody to be careful when they do expense compares between last year and thisyear. There is huge amount of leverage going on, but we also want to make sure we attack all the markets and put ourpeople in front of our customers and potential customers throughout the world. And I'll let Marc talk about the othercomments.\n",
      "\n",
      "\n",
      "{'neg': 0.028, 'neu': 0.897, 'pos': 0.075, 'compound': 0.8847}\n",
      " Yeah, and just to add to Steve's comments, you know, we are in a market share war, and we havebeen investing very, very heavily to achieve market share. That is our No. 1 goal. I am sure you know, Laura, as one ofthe leading analysts in this industry. I think that maybe we were perhaps one of the only ones who publish thesesubscriber numbers and customer numbers on a consistent and regular basis to allow you to have full transparency toour business. And that is to demonstrate that we are increasingly developing a commanding position in this market.That commanding position requires us to invest. And in salespeople specifically, to be able to go out and to build aworldwide sales force is very expensive. For a traditional enterprise software company, it's very expensive, but it's evenmore expensive for a software company that's based on a deferred model like ours, where the revenue from thatsalesperson generally does not show up for perhaps 18 months. In the original enterprise software model you'dprobably hire a salesperson and see them coming to productivity after nine months, and then right away you start to getthe benefits of those license fees. In our model, yes, they are productive after nine months, but of course that revenuedoesn't necessarily start until after the subscribers kick in and the implementations are done and things are full swing.So when you are investing in an on-demand model, and you are investing in a sales force for an on-demand model, youare going to see more of a tail on that investment. And until we dramatically slow down our growth, which is notsomething we are going to do, you will continue to see this heavy investment in sales and distribution. Because we arefighting armies much larger than ours, with SAP and Oracle, we have to get to a large sales organization. And today weare not yet at that level.You also asked about ADP. And I saw the same research that you saw, Laura, and I was shocked. I was appalled whenI saw it because our relationship with ADP is outstanding. I immediately called our champion at ADP, who was asshocked and as appalled as I was because our ADP relationship is really spectacular. They have a very high log-in. WeCompany Name\n",
      "\n",
      "\n",
      "{'neg': 0.038, 'neu': 0.871, 'pos': 0.09, 'compound': 0.9601}\n",
      " Yes, thank you.\n",
      "\n",
      "\n",
      "{'neg': 0.0, 'neu': 0.161, 'pos': 0.839, 'compound': 0.6369}\n",
      " Thanks Laura.OperatorThank you. Your next question comes from Jason Maynard with Credit Suisse.\n",
      "\n",
      "\n",
      "{'neg': 0.0, 'neu': 0.667, 'pos': 0.333, 'compound': 0.6705}\n",
      " Hey, good afternoon, guys. Just, Marc, I wanted to follow up on a comment that you madeabout the overhang from Q4 and last year into Q1. If you sort of normalize that in apples-to-apples the net new subgrowth, are you sort of implying that the net new subscriber growth was significantly higher than the 45 over 40K thatwe see reported?\n",
      "\n",
      "\n",
      "{'neg': 0.0, 'neu': 0.911, 'pos': 0.089, 'compound': 0.6705}\n",
      " Jason, I am loathe to give you the numbers because they are not in front of me. But I will giveyou very broad approximations, if that's all right with you.\n",
      "\n",
      "\n",
      "{'neg': 0.106, 'neu': 0.894, 'pos': 0.0, 'compound': -0.4939}\n",
      " That would be great.\n",
      "\n",
      "\n",
      "{'neg': 0.0, 'neu': 0.423, 'pos': 0.577, 'compound': 0.6249}\n",
      " In the first quarter of last year, you remember that we executed about 40,000 subscribers. On thecall we cautioned you that there was a substantial overhang from the previous fourth quarter. By, I would say, February15th, or two weeks into our quarter, or maybe by the end of February, in that first quarter of last year we had alreadyacquired 20,000 subscribers. And then we added another 20,000 subscribers in the next 60 days. And again, I am givingyou approximate information because I don't have the specifics, but that's pretty darn close. The majority of thesubscribers for the fourth quarter of this year were actually implemented in the fourth quarter, due to a change that wemade in our own sales force compensation. And, for example, in the first two weeks, or really in the first – in the firsttwo weeks of this quarter, perhaps we only saw, and I guess I am giving you approximate numbers, about 5,000subscribers. And perhaps there was less than 10,000 subscribers completed within the first month of the quarter. Wedon't – normally don't give you this type of detail around subscribers because it's not that interesting to us, honestly.What the power of our model is, the predictability of the revenue, the predictability of the expense line, the totalsubscriber number, the usage number, this is where the power is in our model. Exactly when a certain subscriber comeson or whatever has never really been part of what we want to be about at Salesforce.com. But this was an outstandingquarter with 45,000 net subscriber additions, and we are very excited about our results. And of course the net customernumber is at a record level, as well.Company Name\n",
      "\n",
      "\n",
      "{'neg': 0.01, 'neu': 0.921, 'pos': 0.069, 'compound': 0.9253}\n",
      " Just as a follow-up. I share your enthusiasm for the predictability. The question would be, hasthere have been any change in sales productivity, or has there been any change though in churn that would influencethat subscriber number?\n",
      "\n",
      "\n",
      "{'neg': 0.0, 'neu': 0.833, 'pos': 0.167, 'compound': 0.6597}\n",
      " Specifically, let me take them in that reverse order. In regards to churn, no, we have had noconsequential change in churn. I know it's still less than 1%. And, you know, I think that something like theapproximate number is seven tenths of 1%. But we don't give guidance on churn, as you know. It's not a number thatwe have here at our fingertips. We keep an eye on it. It's very important. You know, you do a very good job ofmanaging and monitoring all of our customers and talking to them and so forth and so on. You know, I would besurprised if you knew of any customer we have ever lost of any consequence.In our history, in the last seven years, who were the two or three customers of any consequence that we lost? It'sunlikely that you can come up with any. If you think about our competitors, a lot of our major customers like ADP, likeCisco, like Merrill, others, came from our competitors, as you well know. We don't have that because we are sopassionately focused on customer success and adoption and the usage of our product, and that is where our focus is, andthat is where our intensity and energy is around.You also asked about sales force productivity. Sales force productivity tends to be variable based on two things. One,the timing of our fiscal year, and sales force productivity tends to be the highest during the fourth quarter, of course,like a lot of enterprise software companies, it's the nature of compensation plans. Number two, as of course we hiremore and more salespeople, overall productivity falls until those salespeople get productive and up to speed, and thenoverall sales productivity goes to a high level. But we have not seen any substantial change in our overall productivityof a kind of production salesperson, if you will. That is a salesperson who has been on board for six to nine months,who is trained, who has a territory. We really have a pretty good handle on what we expect out of those salespeople ona regular basis. We manage them very tightly. We have a very senior sales management organization. It's a globalorganization. It's trifurcated. It's not just for small or medium businesses or even for large enterprises. It also hastargeted accounts orientation, as well. And in all of those areas we have very strong productivity, and we are veryhappy with our distribution organization and the productivity that we are getting out of them. And just look at thenumbers, for example, where we are starting to approach a half a million subscribers. This is a powerful time for ourcompany.OperatorThank you. Your next question comes from Rick Sherlund with Goldman Sachs.\n",
      "\n",
      "\n",
      "{'neg': 0.018, 'neu': 0.89, 'pos': 0.092, 'compound': 0.9834}\n",
      " Hey, it's Chris Sailer for Rick. Just following up on the last question with regard to kind ofoverhang of subs last year, what should that then imply for the sequential growth that we see in July? I guess, youknow, it was only up 1,000 last year, so I would assume, given that there is less overhang, then we would expect to seea more significant sequential ramp this year.\n",
      "\n",
      "\n",
      "{'neg': 0.0, 'neu': 0.886, 'pos': 0.114, 'compound': 0.796}\n",
      " Chris, you should go back and look at, not just the first quarter of last year, right, which is whatyou were asking about? Look at the quarter before that, and you will see a substantial delta that achieved between thatfourth quarter and first quarter. You see that number, that change?\n",
      "\n",
      "\n",
      "{'neg': 0.0, 'neu': 0.931, 'pos': 0.069, 'compound': 0.3527}\n",
      " Yes.\n",
      "\n",
      "\n",
      "{'neg': 0.0, 'neu': 0.0, 'pos': 1.0, 'compound': 0.4019}\n",
      " Well, that is because a significant overhang came from the fourth quarter to the first quarter, tothe point where we really made a strategic decision that we at that time were not compensating our salespeopleproperly to work to get subscribers into the quarter where their deals were happened. We made that change last year,and really that change is still coming into place. We do not as a company focus a huge amount on when subscribers getactivated, but what we do focus on is the success of those customers, the adoption, and making sure that thosecustomers are vested into our architecture and into our schema.Company Name\n",
      "\n",
      "\n",
      "{'neg': 0.0, 'neu': 0.868, 'pos': 0.132, 'compound': 0.91}\n",
      " Right. I guess what I'm just trying to get out is what would sort of normal seasonality looklike this year, say versus last year, given the changes in the comp plan and as well as, I guess, the addition of moresalespeople in general?\n",
      "\n",
      "\n",
      "{'neg': 0.0, 'neu': 0.95, 'pos': 0.05, 'compound': 0.2732}\n",
      " Oh, we don't give subscriber guidance, and we do not – and the reason why is we don't reallyknow. We're of course, we are in a great position in our market today because our primary competitor that we had oneyear ago, Siebel Systems, has disappeared from the market. I went down to their buildings recently only because Inoticed that they were empty and their doors are locked. A year ago those buildings were filled with competitors andpeople trying to put us out of business. They are vaporized. And it's amazing, there is nobody left in those buildings.The sale forces and the product organizations and the development organizations are gone. And this has been just awatershed event for us. And so big changes happened in the last year. And because there are so many changeshappening in our industry all along, it's just impossible to know. For example, the big thing that's happening now isSAP is out there promoting on-demand when they don't have any technology. So what we've done is we are gettinginvited into the all these great SAP customers, like Citrix, where we just closed, or DuPont, or so many customers whowant to look at on-demand for the first time. We have the technology; we have the customer success; we have thereferences at scale and by industry. And we are just trying to execute. So it's very hard for us. And we would tell you ifyou would want to know. If you want to know what the revenue is going to be next quarter or for the year, we arepretty good about that. And we've been very good about ability to forecast that because of the nature of our model. Weare not as good as kind of just the variable number. But you know, by this quarter, you can see we had some verystrong results.OperatorThank you. Your next question comes from Brent Thill with Citigroup.\n",
      "\n",
      "\n",
      "{'neg': 0.017, 'neu': 0.877, 'pos': 0.107, 'compound': 0.9821}\n",
      " Thanks. Marc, if you could just talk a little bit about the timing of new subscribers associated withthe AppExchange? I think you mentioned earlier that there were 8,600 applications now downloaded. The subscribernumbers, I guess, don't really match up to that improvement year over year because AppExchange just went live. Sohow should we think about the follow-through of subscribers onto Exchange?\n",
      "\n",
      "\n",
      "{'neg': 0.0, 'neu': 0.899, 'pos': 0.101, 'compound': 0.7399}\n",
      " Well, we are very optimistic about AppExchange, as I am sure you know. We've seentremendous traction in the ISV community. We've seen a lot of innovation, a lot of creativity, and a lot of power in theAppExchange, and in the U.S. AppExchange as well as in the Japanese AppExchange. While I want to tell you that, notonly have we seen that power with the ISV community, but of course with customers, they are downloadingAppExchange applications. In some cases they are deploying those applications. In other cases, they are still testingthose applications, they are customizing those applications, and they have not yet deployed those applications. It'simpossible for us to know because AppExchange is still only a few months old exactly what the subscriber ramificationwill be for the AppExchange. But of course we are very optimistic about the AppExchange.But what I can tell you, based on the experience of this quarter, is that our new Unlimited Edition, which is our newhigher priced product, is a product that a lot of our customers are moving to because they want to bring all theseAppExchange applications in. A lot of our customers are on Professional and Enterprise editions which are constrainedwith the number of tabs or the number of fields that they are able to support, and they want this new Unlimited Editionwhich has all of the power of unlimited tabs and the unlimited fields and data storage, as well as wireless capability andSandbox and other capabilities. I would reference you to our website. If you go to our Products tab, and on theright-hand side there is an addition comparison chart, you will see why our customers are moving to Unlimited Edition.We are very optimistic about that. We are very optimistic about AppExchange applications being deployed, movingcustomers to Unlimited Edition. And we believe that customers will also continue to deploy new applications and thatthat will yield more subscriber seats in existing customers, which is one of our strategic goals for the company.OperatorCompany Name\n",
      "\n",
      "\n",
      "{'neg': 0.0, 'neu': 0.9, 'pos': 0.1, 'compound': 0.9763}\n",
      " Hi, thank you very much. I guess what I am hearing from the call, guys, is that your ASPs aremoving up, your churn rate is going down, and your sub is the third variable that really goes into your guidance. So amI wrong to think that the next quarter, which calls for an increase in revenue, is predicated on ASPs going higherbecause of the Sandbox, the Unlimited version; churn rates getting smaller; and sub – possibly a sequential growth inthe number of new subs added. And I have got a follow-up question.\n",
      "\n",
      "\n",
      "{'neg': 0.036, 'neu': 0.87, 'pos': 0.093, 'compound': 0.5141}\n",
      " Now, Kash, I think what you are going to see is the relationships hold pretty constant here.We don't have the dramatic change which we typically see. UE has certainly got a lot of interest. Sandbox and thewireless component are amazing features that customers desire. But you are not going to – the methods that we haveare pretty standard. So I'd look at that from a model-to-model stand.\n",
      "\n",
      "\n",
      "{'neg': 0.0, 'neu': 0.757, 'pos': 0.243, 'compound': 0.9538}\n",
      " So I guess if we get the continued sustained increase in ASPs, would you still be able to produceyour revenue guidance, let's say, if subs were flat? Or do you think you need a sequential growth? You don't have totell us what the exact sub number expectation is, since you've already said you are not going to guide based on that. Butif ASPs go up by a couple of bucks, and if churn rates are the same, do you think you need to do a flat number of subsor a higher number of subs in order to hit your guidance?\n",
      "\n",
      "\n",
      "{'neg': 0.0, 'neu': 0.906, 'pos': 0.094, 'compound': 0.7461}\n",
      " Yeah, you know, it's hard to get into those details because there's a lot of moving piecesthere, right? We have product mix; we have timing to when subscribers come on; we have small business and largebusiness. So we feel real good about our guidance on the revenues. We feel great about the earnings numbers. And Ithink you just have to work your models to consider your view of what those variables are.\n",
      "\n",
      "\n",
      "{'neg': 0.018, 'neu': 0.863, 'pos': 0.119, 'compound': 0.8316}\n",
      " One of the things that I would really bring your attention to is that, you know, as we've said nowand maybe the last eight calls, we would love to be able to tell you when are the subscribers going to exactly happen,when will they exactly get implemented, when will those users come online. But we are just not very good at that, andthe reason why is because we always defer to our customers. We let them decide what is right for them, not what's rightfor us, not what's right for our financial analyst reports or anything else. We let our customers decide what isappropriate for them and how can we best serve them. Different customers require different implementation times,different subscriber activation times and so forth. But what we've seen, and what you've seen as analysts, is that thesecustomers are expanding over time. Just look at Cisco Systems, how many times that we had to take a phone call fromyou or seen a research report saying that we've lost Cisco, what happened? You know, and in fact, now Cisco is ofcourse our largest customer, and they've expanded over their history with us, as you know. But I want you to just payattention to these customers are expanding. They are growing. We have our largest customer at 7,500 subscriberstoday. We fully expect that we will be able to tell you within the next quarter or two that we have a 10,000 subscribercustomer. We see the whole base expanding. We see AppExchange as a catalyst for expansion. Our job is to movemore customers in at the bottom of the pyramid and move them up over time. And that is the power of the model, andthat is what we want to have happen. There is a lot of change happening in our market, competitors coming, leaving,new competitors coming in, changes. Our passion has to be around execution and the day-in and day-out process ofmaking the customer successful. We know, if we make that customer successful, we will keep that customer over time,and they will expand. And that is what is happening in our base today.OperatorThank you. Your next question comes from Brendan Barnicle with Pacific Crest Securities.\n",
      "\n",
      "\n",
      "{'neg': 0.019, 'neu': 0.908, 'pos': 0.074, 'compound': 0.9622}\n",
      " Good afternoon. This is Matthew Cossen for Brendan. Just a quick question on the sub adds. Do you plan tocontinue to give the sub add number? And if you were to stop giving that number each quarter, what would change tomake you stop giving that number?\n",
      "\n",
      "\n",
      "{'neg': 0.082, 'neu': 0.693, 'pos': 0.224, 'compound': 0.6767}\n",
      " I want to tell you how much I appreciate that question. You know, I put this in the same bucket as the EDP questions. Why would we stop giving the subscriber number? Our whole mantra in this company isCompany Name\n",
      "\n",
      "\n",
      "{'neg': 0.053, 'neu': 0.764, 'pos': 0.184, 'compound': 0.5423}\n",
      " Hi, can you guys hear me okay?\n",
      "\n",
      "\n",
      "{'neg': 0.0, 'neu': 0.759, 'pos': 0.241, 'compound': 0.2263}\n",
      " Yeah.\n",
      "\n",
      "\n",
      "{'neg': 0.0, 'neu': 0.0, 'pos': 1.0, 'compound': 0.296}\n",
      " Great. Marc, I will give you a second to catch your breath again after that question. Canyou talk a little bit about how...\n",
      "\n",
      "\n",
      "{'neg': 0.0, 'neu': 0.823, 'pos': 0.177, 'compound': 0.6249}\n",
      " Steve Cakebread stood up and gave me a round of applause.\n",
      "\n",
      "\n",
      "{'neg': 0.0, 'neu': 0.763, 'pos': 0.237, 'compound': 0.4215}\n",
      " ...what's going on in the professional services organization? You guys have had really,really nice professional services growth. How is your growth driving with your partners and the guys you are going tomarket with? Are you getting any friction in that channel? How are you guys going to market to make sure that you arekeeping your SI partners motivated and not competing for the same business?\n",
      "\n",
      "\n",
      "{'neg': 0.0, 'neu': 0.808, 'pos': 0.192, 'compound': 0.9226}\n",
      " Well, we've been very fortunate to have developed a channel strategy that does not conflict withour distribution strategy. So if you look at a company like that we work with very closely like Accenture, we work withAccenture at AEON, we work with them at Cisco, we work with them at Chevron, we work with them at Kaiser. It'svery a symbiotic relationship because, unlike other enterprise software companies, we don't have large servicespractices here. So very much symbiotic to the way we are as a company is we need these SIs to be successful with us.And I think that's why we are getting invited to so many deals with them, because it's very complementary and there isno risk of us interfering with their revenue stream, which is not true with others providers like, you know, for example,like IBM, or even Oracle. So we feel very good about that today.\n",
      "\n",
      "\n",
      "{'neg': 0.028, 'neu': 0.836, 'pos': 0.137, 'compound': 0.9461}\n",
      " But how do you – it's not clear to me, how do you go to market with these SI partners?How do your parse up the business so that what piece do you guys own, what do they own? How do they feelcomfortable? What rules are in place, or what are the rules of engagement?Company Name\n",
      "\n",
      "\n",
      "{'neg': 0.056, 'neu': 0.944, 'pos': 0.0, 'compound': -0.4843}\n",
      " Well, what we are looking at doing – and thank you for this question because it's nice not to haveto give subscriber guidance. What I see is that, you know, these systems integrators, as I explained, are very symbiotic.In many cases they have the relationship with the customer. In many cases they had already come in with the SAP orOracle recommendation, and it's imploded or failed. And they can come to us, and in some cases we come to them, andthey say, oh, we have this opportunity, and we want you to work with us on this opportunity. I guess Chevron is a greatexample, you know, where Bill Green at Accenture can come to me and say, hey, I have this deal with Chevron, buton-demand is really the right answer for this customer. Will you come and help us with that? And then we drive out toChevron and meet with them and talk to them, and then we work to implement them with Accenture. And Accenturedoes the customization, Accenture does the integration, Accenture does the change management, Accenture is doingmaybe the comp plans, sales reorganization, strategy, all that. We are providing the information management service.That's our component. Accenture doesn't provide information management service over the 'Net. That's our value tothem. And then we help to implement Accenture's, you know, their strategy plan, their concept through our application.Because it is so customizable, so flexible, the ability to add all these things from the AppExchange, we can deployvery, very rapidly. And we've had great success at many companies. The most recent one that I could tell you about isKaiser. And, you know, I was just with the head of their sales organization. It's been a great success for us so far, andwe see continued expansion.\n",
      "\n",
      "\n",
      "{'neg': 0.01, 'neu': 0.85, 'pos': 0.14, 'compound': 0.9896}\n",
      " Thanks, Peter.OperatorThank you. Your next question comes from Philip Rueppel with Wachovia Securities.\n",
      "\n",
      "\n",
      "{'neg': 0.0, 'neu': 0.683, 'pos': 0.317, 'compound': 0.6249}\n",
      " Hi, great. Thank you very much. I think you made it pretty clear that you haven't lost many orany major customers. But over the past few months have you sensed any major or smaller customers slowing some oftheir planned rollouts while you, you know, demonstrated that your operational reliability improved? And now that youhave some of that technology in place and can point to that, do you sense any acceleration in some of those plans? Andthen, second of all, on AppExchange, you mentioned, you know, both the increase in ASPs as well as increase in seatsas drivers to Salesforce revenue. Can you point to any examples, and I know it's early, but of customers that havebought new seats just for an AppExchange application? Or, again, is that just too early to point to?\n",
      "\n",
      "\n",
      "{'neg': 0.0, 'neu': 0.874, 'pos': 0.126, 'compound': 0.9107}\n",
      " Okay. Well, those are two really good questions. And first of all, let me take the first question.And if you remember on our call at the end of the fourth quarter, the question that was on the call was, geez, you justhad a couple of these bumps in the road. And you know, you have been around for seven years, you guys have beenrunning at three and four nines, and you kind of have these kind of service interruptions. Well, what's going on, and areyou going to lose customers because of that? And we said to you at that time, we don't see us losing customers becauseof it. We did not believe that it was material to our customers. We did not believe that it was affecting our position inthe market or ability to win deals. Now we are reporting our first quarter, and you can see a record customer addition,you can see a strong subscriber increase, you can see existing customers expanding. So hopefully you will see that whatwe said in the fourth quarter has come true in the first quarter. And, you know, we believe that our solution is a lotmore reliable than the stuff they are running even inside their own companies. I mean, I don't know what customersyou are talking to, but I go into customers, and they say, gee, you lost – sir, you had a brief center service interruption.Well, we lost our whole data center for two days. We had this problem; we had that problem. I mean, we are experts atwhat we do, and we work hard every day to give our customers the highest level of performance and reliability andscale and trust in us that is possible.So we believe that customers are continuing their normal course of business with us. And it was an unfortunate timeduring the fourth quarter, but we believe that we are through it, and we do not see adverse market reaction to us. And Ibelieve that the analysts on this call who have done multiple surveys to our customer base and to our prospect baseunderstand that. Of course, our competitors might have something else to say, but our competitors are not showing theirwins in this market. What new wins do they have? What customers do these competitors have? Why can't they bringCompany Name\n",
      "\n",
      "\n",
      "{'neg': 0.057, 'neu': 0.853, 'pos': 0.09, 'compound': 0.8208}\n",
      " Hey guys, just a quick clarification. Was wondering, I think you had mentioned that 5,000AppExchange Mobile subs were added in just the first couple of weeks, and just wanted to clarify, were these subs thatwere incremental to the user already signed up by Sendia prior to the acquisition? And then the follow-up question is,were these primarily from customers who moved to the Unlimited Edition, or did you see a number of customer whojust added mobile piece to their existing editions?\n",
      "\n",
      "\n",
      "{'neg': 0.0, 'neu': 0.979, 'pos': 0.021, 'compound': 0.168}\n",
      " I am asking David what the answer is because I don't really know. So why don't you just tell himthis.\n",
      "\n",
      "\n",
      "{'neg': 0.0, 'neu': 1.0, 'pos': 0.0, 'compound': 0.0}\n",
      " So that's – the 5,000 number is the total amount that had been provisioned. So we did inheritsome customers who already provisioned with Sendia, and we are seeing our UE customers continue to provision, aswell. You heard Marc talk about the 4,000 subscribers already purchasing UE, and those customers are beginning toprovision wireless into their environment. So the total number that we provided is the combination of what wasinherited via the Sendia acquisition and the UE customers that are continuing to provision.\n",
      "\n",
      "\n",
      "{'neg': 0.0, 'neu': 0.968, 'pos': 0.032, 'compound': 0.1531}\n",
      " Let me also add to that that, you know, we see wireless as a major reason why customers aremoving to Unlimited Edition. When they look at the additional fee for the wireless edition, when they look for theadditional fee for AppExchange applications that they are adding, when they look at the additional fee for Sandbox orfor premium support, many of them are just deciding to move to Unlimited Edition, and that's one of our core strategiesfor our company from a pricing standpoint.\n",
      "\n",
      "\n",
      "{'neg': 0.0, 'neu': 0.967, 'pos': 0.033, 'compound': 0.4019}\n",
      " Great, thanks.\n",
      "\n",
      "\n",
      "{'neg': 0.0, 'neu': 0.0, 'pos': 1.0, 'compound': 0.7906}\n",
      " Thank you.OperatorThank you. Your next question comes from Mark Murphy with First Albany.\n",
      "\n",
      "\n",
      "{'neg': 0.0, 'neu': 0.828, 'pos': 0.172, 'compound': 0.3612}\n",
      " Thank you. Marc, with AppExchange, understanding that it's still very early stages here, howdo you feel about the level of adoption and the number of third-party applications being written relative to yourexpectations last fall? And as a follow-up, what is your intended mix of AppExchange applications between third-partycreated and Salesforce created, if we look at that a few years down the road?\n",
      "\n",
      "\n",
      "{'neg': 0.0, 'neu': 0.902, 'pos': 0.098, 'compound': 0.6322}\n",
      " Well, thank you for that question. And the first question I'll ask is the last one. And about – I think it's approximately 23% of the applications on AppExchange were written by us. And the rest, the other 75%, areCompany Name\n",
      "\n",
      "\n",
      "{'neg': 0.0, 'neu': 0.889, 'pos': 0.111, 'compound': 0.5574}\n",
      " Hi, yes, thank you. Congratulations on a great quarter, Marc and Steve, just a couple of quickquestions. What were the cash taxes in the quarter, or what do you expect them to be for the full year? Do you have anycolor on that? As well as I have a question on AppExchange. You mentioned that a lot of customers are moving on toUltimate Edition. But some of the customers who are not using any of the CRM functionality, are you getting anydemand from ISVs for more for background pricing or somewhat of a option where customers can use thoseapplications without using any of the CRM functionality?\n",
      "\n",
      "\n",
      "{'neg': 0.0, 'neu': 0.857, 'pos': 0.143, 'compound': 0.9417}\n",
      " That last question about AppExchange I am going to save till Wednesday. And Steve, do youwant to answer the first question?\n",
      "\n",
      "\n",
      "{'neg': 0.0, 'neu': 0.856, 'pos': 0.144, 'compound': 0.4939}\n",
      " We had mentioned last quarter, and we are still seeing about 10% on cash taxes.\n",
      "\n",
      "\n",
      "{'neg': 0.0, 'neu': 1.0, 'pos': 0.0, 'compound': 0.0}\n",
      " Thank you.\n",
      "\n",
      "\n",
      "{'neg': 0.0, 'neu': 0.286, 'pos': 0.714, 'compound': 0.3612}\n",
      " Thanks very much.Marc Benioff, Chairman and Chief Executive OfficerThanks, everyone. It's been nice talking to everyone today, and we will look forward to seeing you Wednesday at theAppforce AppExchange User and Developer Conference. Have a great day.OperatorThank you for joining today's conference call. You may now disconnect.This transcript may not be 100 percent accurate and may contain misspellings and other inaccuracies. This transcriptis provided \"as is\", without express or implied warranties of any kind. Bloomberg retains all rights to this transcriptCompany Name\n",
      "\n",
      "\n",
      "{'neg': 0.0, 'neu': 0.854, 'pos': 0.146, 'compound': 0.9217}\n"
     ]
    }
   ],
   "source": [
    "sid = SentimentIntensityAnalyzer()\n",
    "\n",
    "for i in range(0, len(text)):\n",
    "    print(text[i])\n",
    "    print('\\n')\n",
    "    ss = sid.polarity_scores(text[i])\n",
    "    print(ss)\n"
   ]
  },
  {
   "cell_type": "code",
   "execution_count": null,
   "metadata": {},
   "outputs": [],
   "source": []
  }
 ],
 "metadata": {
  "kernelspec": {
   "display_name": "Python 3",
   "language": "python",
   "name": "python3"
  },
  "language_info": {
   "codemirror_mode": {
    "name": "ipython",
    "version": 3
   },
   "file_extension": ".py",
   "mimetype": "text/x-python",
   "name": "python",
   "nbconvert_exporter": "python",
   "pygments_lexer": "ipython3",
   "version": "3.6.5"
  }
 },
 "nbformat": 4,
 "nbformat_minor": 2
}
